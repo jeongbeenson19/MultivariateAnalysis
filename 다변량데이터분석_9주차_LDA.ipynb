{
 "nbformat": 4,
 "nbformat_minor": 0,
 "metadata": {
  "colab": {
   "provenance": []
  },
  "kernelspec": {
   "name": "python3",
   "language": "python",
   "display_name": "Python 3 (ipykernel)"
  },
  "language_info": {
   "name": "python"
  }
 },
 "cells": [
  {
   "cell_type": "markdown",
   "source": [
    "LDA는 선형판별분석(Linear Discriminant Analysis)의 약자입니다. 이는 주어진 클래스들을 가장 잘 구별하는 선형 결정 경계를 찾는 분류 알고리즘입니다. LDA는 주로 패턴 인식과 통계 분류에서 사용됩니다.\n",
    "\n",
    "LDA의 핵심 아이디어는 클래스 간의 분산을 최대화하고 클래스 내의 분산을 최소화하는 특징(또는 축)을 찾는 것입니다. 이를 통해 데이터를 가장 잘 구별할 수 있는 선형 결정 경계를 찾게 됩니다.\n",
    "\n",
    "일반적으로 LDA는 다음과 같은 단계로 수행됩니다:\n",
    "1. **클래스 간 분산 계산**: 각 클래스의 평균을 기준으로 클래스 간의 분산을 계산합니다.\n",
    "2. **클래스 내 분산 계산**: 각 클래스 내의 데이터 포인트 간의 분산을 계산합니다.\n",
    "3. **특징 벡터 계산**: 클래스 간 분산과 클래스 내 분산의 비율을 최대화하는 특징 벡터(선형 판별 벡터)를 찾습니다.\n",
    "4. **결정 경계 설정**: 특징 벡터를 사용하여 데이터를 가장 잘 분류하는 결정 경계를 설정합니다.\n",
    "\n",
    "LDA는 클래스 간 분산과 클래스 내 분산의 비율을 최대화하여 클래스 간의 차이를 최대한 확대하고, 클래스 내의 분산을 최소화하여 클래스 간의 겹치는 영역을 최소화하는 방식으로 작동합니다. 이를 통해 데이터를 가장 잘 구별할 수 있는 분류 경계를 찾습니다. LDA는 선형 모델이므로 입력 데이터가 선형 분리 가능한 경우에 가장 잘 작동합니다."
   ],
   "metadata": {
    "id": "9LvtEXH2uX8g"
   }
  },
  {
   "cell_type": "markdown",
   "source": [
    "판별 분석(예: LDA, QDA)의 장단점은 다음과 같습니다:\n",
    "\n",
    "장점:\n",
    "\n",
    "1. **효율적인 분류**:\n",
    "   - 판별 분석은 클래스 간의 분산을 최대화하여 데이터를 가장 잘 분류하는 판별 경계를 찾습니다. 따라서 일반적으로 분류 작업에서 좋은 성능을 보입니다.\n",
    "\n",
    "2. **차원 축소**:\n",
    "   - 판별 분석은 주로 클래스 간의 차원을 축소하는 데 사용됩니다. 특징 벡터를 찾은 후 이를 사용하여 데이터를 분류하기 때문에 차원 축소에 효과적입니다.\n",
    "\n",
    "3. **결과 해석이 용이**:\n",
    "   - 판별 분석은 각 특징이 클래스 간의 분별력을 얼마나 제공하는지에 대한 정보를 제공하기 때문에 결과를 해석하기 쉽습니다.\n",
    "\n",
    "4. **적은 데이터 요구**:\n",
    "   - 판별 분석은 상대적으로 적은 데이터로도 좋은 성능을 발휘할 수 있습니다. 따라서 데이터가 적은 경우에도 적용할 수 있습니다.\n",
    "\n",
    "단점:\n",
    "\n",
    "1. **선형 가정**:\n",
    "   - 선형 판별 분석(LDA)은 클래스 간의 결정 경계가 선형이라는 가정을 하고 있습니다. 따라서 데이터가 비선형 구조를 가진 경우에는 성능이 저하될 수 있습니다.\n",
    "\n",
    "2. **공분산 행렬의 동일성 가정**:\n",
    "   - LDA는 각 클래스의 데이터가 동일한 공분산 행렬을 가진다고 가정합니다. 만약 실제 데이터가 이 가정을 충족하지 않는 경우에는 성능이 저하될 수 있습니다.\n",
    "\n",
    "3. **과적합 문제**:\n",
    "   - 데이터의 분산이 너무 크거나 클래스 간의 겹치는 부분이 많은 경우에는 과적합(Overfitting) 문제가 발생할 수 있습니다.\n",
    "\n",
    "4. **이상치에 민감**:\n",
    "   - 판별 분석은 이상치에 민감할 수 있습니다. 특히 선형 판별 분석은 이상치에 더 민감할 수 있습니다.\n",
    "\n",
    "따라서 판별 분석은 효율적인 분류와 해석이 용이하다는 장점을 가지고 있지만, 선형 가정과 공분산 행렬의 동일성 가정 등의 제약이 있을 수 있습니다. 데이터의 구조와 목표에 따라 적합한 분석 방법을 선택해야 합니다."
   ],
   "metadata": {
    "id": "QrD9dln6v5V0"
   }
  },
  {
   "cell_type": "markdown",
   "source": [
    "가우시안(Gaussian) 함수는 정규 분포를 나타내는 확률 밀도 함수(PDF)로서 매우 중요한 수학적 개념입니다. 가우시안 함수는 다음과 같이 정의됩니다:\n",
    "\n",
    "$$\n",
    "f(x) = \\frac{1}{\\sigma \\sqrt{2\\pi}} e^{-\\frac{(x - \\mu)^2}{2\\sigma^2}}\n",
    "$$\n",
    "\n",
    "여기서:\n",
    "- $ x $는 변수이며, 정규 분포의 값이 될 수 있습니다.\n",
    "- $ \\mu $는 평균(mean)입니다. 분포의 중심을 나타냅니다.\n",
    "- $ \\sigma $는 표준 편차(standard deviation)입니다. 분포의 넓이를 나타냅니다.\n",
    "- $ e $는 자연 로그의 밑(약 2.71828)입니다.\n",
    "\n",
    "가우시안 함수는 평균을 중심으로 하고 표준 편차에 따라 좌우로 늘어나는 종 모양의 곡선을 형성합니다. 이 함수는 자연 과학, 공학, 통계학 및 기타 분야에서 많이 사용되며, 데이터의 분포를 모델링하고 이해하는 데 유용합니다. 특히, 정규 분포는 중심 극한 정리와 같은 중요한 통계적 개념에 기반을 두고 있어 다양한 응용 분야에서 중요한 역할을 합니다."
   ],
   "metadata": {
    "id": "DKSlQ2RVwNXU"
   }
  },
  {
   "cell_type": "markdown",
   "source": [
    "__기말 1-n 정규분포 확률 밀도 함수식으로 판별함수 찾기__"
   ],
   "metadata": {
    "id": "BDxIaAQ8w4-N"
   }
  },
  {
   "cell_type": "markdown",
   "source": [
    "선형 판별 함수(Linear Discriminant Function)는 판별 분석(Linear Discriminant Analysis, LDA)에서 사용되는 함수로, 입력 변수를 선형 조합하여 클래스를 분류하는 데 사용됩니다. 선형 판별 함수는 다음과 같이 정의됩니다:\n",
    "\n",
    "$$\n",
    "g(\\mathbf{x}) = \\mathbf{w}^T \\mathbf{x} + b\n",
    "$$\n",
    "\n",
    "여기서:\n",
    "- $ g(\\mathbf{x}) $는 입력 벡터 $ \\mathbf{x} $의 선형 판별 함수를 나타냅니다.\n",
    "- $ \\mathbf{x} $는 입력 변수의 벡터이며, $ \\mathbf{w} $는 가중치(weight) 벡터입니다.\n",
    "- $ \\mathbf{w}^T $는 $ \\mathbf{w} $의 전치(transpose)를 나타냅니다.\n",
    "- $ b $는 편향(bias) 또는 절편(intercept)을 나타냅니다.\n",
    "\n",
    "선형 판별 함수는 입력 변수를 가중치와의 선형 조합으로 표현하여 클래스를 구분하는 선형 결정 경계를 정의합니다. 입력 변수를 선형 결합하여 구한 값이 양수이면 한 클래스에 속하고, 음수이면 다른 클래스에 속한다고 판별됩니다. 판별 경계는 선형 판별 함수의 값이 0인 지점입니다.\n",
    "\n",
    "선형 판별 함수는 선형 분리 가능한 문제에서 효과적으로 작동합니다. 하지만 클래스가 비선형으로 분포되어 있는 경우에는 성능이 저하될 수 있습니다."
   ],
   "metadata": {
    "id": "k0LDqyrQxiRe"
   }
  },
  {
   "cell_type": "code",
   "execution_count": 1,
   "metadata": {
    "id": "ZpI7EqSntKyV",
    "ExecuteTime": {
     "end_time": "2024-05-02T01:58:47.589095Z",
     "start_time": "2024-05-02T01:58:44.266339Z"
    }
   },
   "outputs": [
    {
     "data": {
      "text/plain": "LinearDiscriminantAnalysis()",
      "text/html": "<style>#sk-container-id-1 {\n  /* Definition of color scheme common for light and dark mode */\n  --sklearn-color-text: black;\n  --sklearn-color-line: gray;\n  /* Definition of color scheme for unfitted estimators */\n  --sklearn-color-unfitted-level-0: #fff5e6;\n  --sklearn-color-unfitted-level-1: #f6e4d2;\n  --sklearn-color-unfitted-level-2: #ffe0b3;\n  --sklearn-color-unfitted-level-3: chocolate;\n  /* Definition of color scheme for fitted estimators */\n  --sklearn-color-fitted-level-0: #f0f8ff;\n  --sklearn-color-fitted-level-1: #d4ebff;\n  --sklearn-color-fitted-level-2: #b3dbfd;\n  --sklearn-color-fitted-level-3: cornflowerblue;\n\n  /* Specific color for light theme */\n  --sklearn-color-text-on-default-background: var(--sg-text-color, var(--theme-code-foreground, var(--jp-content-font-color1, black)));\n  --sklearn-color-background: var(--sg-background-color, var(--theme-background, var(--jp-layout-color0, white)));\n  --sklearn-color-border-box: var(--sg-text-color, var(--theme-code-foreground, var(--jp-content-font-color1, black)));\n  --sklearn-color-icon: #696969;\n\n  @media (prefers-color-scheme: dark) {\n    /* Redefinition of color scheme for dark theme */\n    --sklearn-color-text-on-default-background: var(--sg-text-color, var(--theme-code-foreground, var(--jp-content-font-color1, white)));\n    --sklearn-color-background: var(--sg-background-color, var(--theme-background, var(--jp-layout-color0, #111)));\n    --sklearn-color-border-box: var(--sg-text-color, var(--theme-code-foreground, var(--jp-content-font-color1, white)));\n    --sklearn-color-icon: #878787;\n  }\n}\n\n#sk-container-id-1 {\n  color: var(--sklearn-color-text);\n}\n\n#sk-container-id-1 pre {\n  padding: 0;\n}\n\n#sk-container-id-1 input.sk-hidden--visually {\n  border: 0;\n  clip: rect(1px 1px 1px 1px);\n  clip: rect(1px, 1px, 1px, 1px);\n  height: 1px;\n  margin: -1px;\n  overflow: hidden;\n  padding: 0;\n  position: absolute;\n  width: 1px;\n}\n\n#sk-container-id-1 div.sk-dashed-wrapped {\n  border: 1px dashed var(--sklearn-color-line);\n  margin: 0 0.4em 0.5em 0.4em;\n  box-sizing: border-box;\n  padding-bottom: 0.4em;\n  background-color: var(--sklearn-color-background);\n}\n\n#sk-container-id-1 div.sk-container {\n  /* jupyter's `normalize.less` sets `[hidden] { display: none; }`\n     but bootstrap.min.css set `[hidden] { display: none !important; }`\n     so we also need the `!important` here to be able to override the\n     default hidden behavior on the sphinx rendered scikit-learn.org.\n     See: https://github.com/scikit-learn/scikit-learn/issues/21755 */\n  display: inline-block !important;\n  position: relative;\n}\n\n#sk-container-id-1 div.sk-text-repr-fallback {\n  display: none;\n}\n\ndiv.sk-parallel-item,\ndiv.sk-serial,\ndiv.sk-item {\n  /* draw centered vertical line to link estimators */\n  background-image: linear-gradient(var(--sklearn-color-text-on-default-background), var(--sklearn-color-text-on-default-background));\n  background-size: 2px 100%;\n  background-repeat: no-repeat;\n  background-position: center center;\n}\n\n/* Parallel-specific style estimator block */\n\n#sk-container-id-1 div.sk-parallel-item::after {\n  content: \"\";\n  width: 100%;\n  border-bottom: 2px solid var(--sklearn-color-text-on-default-background);\n  flex-grow: 1;\n}\n\n#sk-container-id-1 div.sk-parallel {\n  display: flex;\n  align-items: stretch;\n  justify-content: center;\n  background-color: var(--sklearn-color-background);\n  position: relative;\n}\n\n#sk-container-id-1 div.sk-parallel-item {\n  display: flex;\n  flex-direction: column;\n}\n\n#sk-container-id-1 div.sk-parallel-item:first-child::after {\n  align-self: flex-end;\n  width: 50%;\n}\n\n#sk-container-id-1 div.sk-parallel-item:last-child::after {\n  align-self: flex-start;\n  width: 50%;\n}\n\n#sk-container-id-1 div.sk-parallel-item:only-child::after {\n  width: 0;\n}\n\n/* Serial-specific style estimator block */\n\n#sk-container-id-1 div.sk-serial {\n  display: flex;\n  flex-direction: column;\n  align-items: center;\n  background-color: var(--sklearn-color-background);\n  padding-right: 1em;\n  padding-left: 1em;\n}\n\n\n/* Toggleable style: style used for estimator/Pipeline/ColumnTransformer box that is\nclickable and can be expanded/collapsed.\n- Pipeline and ColumnTransformer use this feature and define the default style\n- Estimators will overwrite some part of the style using the `sk-estimator` class\n*/\n\n/* Pipeline and ColumnTransformer style (default) */\n\n#sk-container-id-1 div.sk-toggleable {\n  /* Default theme specific background. It is overwritten whether we have a\n  specific estimator or a Pipeline/ColumnTransformer */\n  background-color: var(--sklearn-color-background);\n}\n\n/* Toggleable label */\n#sk-container-id-1 label.sk-toggleable__label {\n  cursor: pointer;\n  display: block;\n  width: 100%;\n  margin-bottom: 0;\n  padding: 0.5em;\n  box-sizing: border-box;\n  text-align: center;\n}\n\n#sk-container-id-1 label.sk-toggleable__label-arrow:before {\n  /* Arrow on the left of the label */\n  content: \"▸\";\n  float: left;\n  margin-right: 0.25em;\n  color: var(--sklearn-color-icon);\n}\n\n#sk-container-id-1 label.sk-toggleable__label-arrow:hover:before {\n  color: var(--sklearn-color-text);\n}\n\n/* Toggleable content - dropdown */\n\n#sk-container-id-1 div.sk-toggleable__content {\n  max-height: 0;\n  max-width: 0;\n  overflow: hidden;\n  text-align: left;\n  /* unfitted */\n  background-color: var(--sklearn-color-unfitted-level-0);\n}\n\n#sk-container-id-1 div.sk-toggleable__content.fitted {\n  /* fitted */\n  background-color: var(--sklearn-color-fitted-level-0);\n}\n\n#sk-container-id-1 div.sk-toggleable__content pre {\n  margin: 0.2em;\n  border-radius: 0.25em;\n  color: var(--sklearn-color-text);\n  /* unfitted */\n  background-color: var(--sklearn-color-unfitted-level-0);\n}\n\n#sk-container-id-1 div.sk-toggleable__content.fitted pre {\n  /* unfitted */\n  background-color: var(--sklearn-color-fitted-level-0);\n}\n\n#sk-container-id-1 input.sk-toggleable__control:checked~div.sk-toggleable__content {\n  /* Expand drop-down */\n  max-height: 200px;\n  max-width: 100%;\n  overflow: auto;\n}\n\n#sk-container-id-1 input.sk-toggleable__control:checked~label.sk-toggleable__label-arrow:before {\n  content: \"▾\";\n}\n\n/* Pipeline/ColumnTransformer-specific style */\n\n#sk-container-id-1 div.sk-label input.sk-toggleable__control:checked~label.sk-toggleable__label {\n  color: var(--sklearn-color-text);\n  background-color: var(--sklearn-color-unfitted-level-2);\n}\n\n#sk-container-id-1 div.sk-label.fitted input.sk-toggleable__control:checked~label.sk-toggleable__label {\n  background-color: var(--sklearn-color-fitted-level-2);\n}\n\n/* Estimator-specific style */\n\n/* Colorize estimator box */\n#sk-container-id-1 div.sk-estimator input.sk-toggleable__control:checked~label.sk-toggleable__label {\n  /* unfitted */\n  background-color: var(--sklearn-color-unfitted-level-2);\n}\n\n#sk-container-id-1 div.sk-estimator.fitted input.sk-toggleable__control:checked~label.sk-toggleable__label {\n  /* fitted */\n  background-color: var(--sklearn-color-fitted-level-2);\n}\n\n#sk-container-id-1 div.sk-label label.sk-toggleable__label,\n#sk-container-id-1 div.sk-label label {\n  /* The background is the default theme color */\n  color: var(--sklearn-color-text-on-default-background);\n}\n\n/* On hover, darken the color of the background */\n#sk-container-id-1 div.sk-label:hover label.sk-toggleable__label {\n  color: var(--sklearn-color-text);\n  background-color: var(--sklearn-color-unfitted-level-2);\n}\n\n/* Label box, darken color on hover, fitted */\n#sk-container-id-1 div.sk-label.fitted:hover label.sk-toggleable__label.fitted {\n  color: var(--sklearn-color-text);\n  background-color: var(--sklearn-color-fitted-level-2);\n}\n\n/* Estimator label */\n\n#sk-container-id-1 div.sk-label label {\n  font-family: monospace;\n  font-weight: bold;\n  display: inline-block;\n  line-height: 1.2em;\n}\n\n#sk-container-id-1 div.sk-label-container {\n  text-align: center;\n}\n\n/* Estimator-specific */\n#sk-container-id-1 div.sk-estimator {\n  font-family: monospace;\n  border: 1px dotted var(--sklearn-color-border-box);\n  border-radius: 0.25em;\n  box-sizing: border-box;\n  margin-bottom: 0.5em;\n  /* unfitted */\n  background-color: var(--sklearn-color-unfitted-level-0);\n}\n\n#sk-container-id-1 div.sk-estimator.fitted {\n  /* fitted */\n  background-color: var(--sklearn-color-fitted-level-0);\n}\n\n/* on hover */\n#sk-container-id-1 div.sk-estimator:hover {\n  /* unfitted */\n  background-color: var(--sklearn-color-unfitted-level-2);\n}\n\n#sk-container-id-1 div.sk-estimator.fitted:hover {\n  /* fitted */\n  background-color: var(--sklearn-color-fitted-level-2);\n}\n\n/* Specification for estimator info (e.g. \"i\" and \"?\") */\n\n/* Common style for \"i\" and \"?\" */\n\n.sk-estimator-doc-link,\na:link.sk-estimator-doc-link,\na:visited.sk-estimator-doc-link {\n  float: right;\n  font-size: smaller;\n  line-height: 1em;\n  font-family: monospace;\n  background-color: var(--sklearn-color-background);\n  border-radius: 1em;\n  height: 1em;\n  width: 1em;\n  text-decoration: none !important;\n  margin-left: 1ex;\n  /* unfitted */\n  border: var(--sklearn-color-unfitted-level-1) 1pt solid;\n  color: var(--sklearn-color-unfitted-level-1);\n}\n\n.sk-estimator-doc-link.fitted,\na:link.sk-estimator-doc-link.fitted,\na:visited.sk-estimator-doc-link.fitted {\n  /* fitted */\n  border: var(--sklearn-color-fitted-level-1) 1pt solid;\n  color: var(--sklearn-color-fitted-level-1);\n}\n\n/* On hover */\ndiv.sk-estimator:hover .sk-estimator-doc-link:hover,\n.sk-estimator-doc-link:hover,\ndiv.sk-label-container:hover .sk-estimator-doc-link:hover,\n.sk-estimator-doc-link:hover {\n  /* unfitted */\n  background-color: var(--sklearn-color-unfitted-level-3);\n  color: var(--sklearn-color-background);\n  text-decoration: none;\n}\n\ndiv.sk-estimator.fitted:hover .sk-estimator-doc-link.fitted:hover,\n.sk-estimator-doc-link.fitted:hover,\ndiv.sk-label-container:hover .sk-estimator-doc-link.fitted:hover,\n.sk-estimator-doc-link.fitted:hover {\n  /* fitted */\n  background-color: var(--sklearn-color-fitted-level-3);\n  color: var(--sklearn-color-background);\n  text-decoration: none;\n}\n\n/* Span, style for the box shown on hovering the info icon */\n.sk-estimator-doc-link span {\n  display: none;\n  z-index: 9999;\n  position: relative;\n  font-weight: normal;\n  right: .2ex;\n  padding: .5ex;\n  margin: .5ex;\n  width: min-content;\n  min-width: 20ex;\n  max-width: 50ex;\n  color: var(--sklearn-color-text);\n  box-shadow: 2pt 2pt 4pt #999;\n  /* unfitted */\n  background: var(--sklearn-color-unfitted-level-0);\n  border: .5pt solid var(--sklearn-color-unfitted-level-3);\n}\n\n.sk-estimator-doc-link.fitted span {\n  /* fitted */\n  background: var(--sklearn-color-fitted-level-0);\n  border: var(--sklearn-color-fitted-level-3);\n}\n\n.sk-estimator-doc-link:hover span {\n  display: block;\n}\n\n/* \"?\"-specific style due to the `<a>` HTML tag */\n\n#sk-container-id-1 a.estimator_doc_link {\n  float: right;\n  font-size: 1rem;\n  line-height: 1em;\n  font-family: monospace;\n  background-color: var(--sklearn-color-background);\n  border-radius: 1rem;\n  height: 1rem;\n  width: 1rem;\n  text-decoration: none;\n  /* unfitted */\n  color: var(--sklearn-color-unfitted-level-1);\n  border: var(--sklearn-color-unfitted-level-1) 1pt solid;\n}\n\n#sk-container-id-1 a.estimator_doc_link.fitted {\n  /* fitted */\n  border: var(--sklearn-color-fitted-level-1) 1pt solid;\n  color: var(--sklearn-color-fitted-level-1);\n}\n\n/* On hover */\n#sk-container-id-1 a.estimator_doc_link:hover {\n  /* unfitted */\n  background-color: var(--sklearn-color-unfitted-level-3);\n  color: var(--sklearn-color-background);\n  text-decoration: none;\n}\n\n#sk-container-id-1 a.estimator_doc_link.fitted:hover {\n  /* fitted */\n  background-color: var(--sklearn-color-fitted-level-3);\n}\n</style><div id=\"sk-container-id-1\" class=\"sk-top-container\"><div class=\"sk-text-repr-fallback\"><pre>LinearDiscriminantAnalysis()</pre><b>In a Jupyter environment, please rerun this cell to show the HTML representation or trust the notebook. <br />On GitHub, the HTML representation is unable to render, please try loading this page with nbviewer.org.</b></div><div class=\"sk-container\" hidden><div class=\"sk-item\"><div class=\"sk-estimator fitted sk-toggleable\"><input class=\"sk-toggleable__control sk-hidden--visually\" id=\"sk-estimator-id-1\" type=\"checkbox\" checked><label for=\"sk-estimator-id-1\" class=\"sk-toggleable__label fitted sk-toggleable__label-arrow fitted\">&nbsp;&nbsp;LinearDiscriminantAnalysis<a class=\"sk-estimator-doc-link fitted\" rel=\"noreferrer\" target=\"_blank\" href=\"https://scikit-learn.org/1.4/modules/generated/sklearn.discriminant_analysis.LinearDiscriminantAnalysis.html\">?<span>Documentation for LinearDiscriminantAnalysis</span></a><span class=\"sk-estimator-doc-link fitted\">i<span>Fitted</span></span></label><div class=\"sk-toggleable__content fitted\"><pre>LinearDiscriminantAnalysis()</pre></div> </div></div></div></div>"
     },
     "execution_count": 1,
     "metadata": {},
     "output_type": "execute_result"
    }
   ],
   "source": [
    "import numpy as np\n",
    "from sklearn.discriminant_analysis import LinearDiscriminantAnalysis\n",
    "\n",
    "X_train = [[1, 2], [3, 4], [5, 6], [7,8]]\n",
    "y_train = [0, 0, 1, 1]\n",
    "\n",
    "model = LinearDiscriminantAnalysis()\n",
    "model.fit(X_train, y_train)"
   ]
  },
  {
   "cell_type": "code",
   "outputs": [],
   "source": [
    "y_pred = model.predict(X_train)\n",
    "print(y_pred)"
   ],
   "metadata": {
    "collapsed": false
   }
  }
 ]
}
