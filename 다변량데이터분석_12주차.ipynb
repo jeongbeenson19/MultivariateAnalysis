{
 "cells": [
  {
   "cell_type": "markdown",
   "source": [
    "인공지능(AI)과 기계 학습(machine learning) 분야에서 \"Manifold(다양체)\"는 고차원 데이터가 내재적으로 저차원 공간에 위치하고 있음을 나타내는 개념입니다. 이를 이해하기 위해 몇 가지 핵심 포인트를 살펴보겠습니다.\n",
    "\n",
    "### 1. 다양체(Manifold)의 정의\n",
    "다양체는 고차원 공간 내의 저차원 구조입니다. 예를 들어, 3차원 공간 내의 2차원 평면이나 1차원 곡선이 다양체의 예가 될 수 있습니다. 다양체는 지역적으로는 유클리드 공간과 닮았지만, 전체적으로는 더 복잡한 구조를 가질 수 있습니다.\n",
    "\n",
    "### 2. 기계 학습에서의 역할\n",
    "- **차원 축소(Dimensionality Reduction)**: 고차원 데이터를 더 낮은 차원으로 변환하는 과정입니다. 주성분 분석(PCA), t-SNE, UMAP 같은 방법들이 다양체 학습을 통해 데이터를 저차원으로 매핑합니다.\n",
    "- **데이터 시각화(Data Visualization)**: 고차원 데이터를 시각적으로 이해하기 쉽게 2D 또는 3D로 변환하는데 다양체 학습이 사용됩니다.\n",
    "- **비지도 학습(Unsupervised Learning)**: 라벨 없는 데이터에서 구조를 발견하는 데 유용합니다. 클러스터링이나 특성 학습에서 다양체 가정이 사용됩니다.\n",
    "\n",
    "Manifold Learning(다양체 학습)은 고차원 데이터가 내재적으로 저차원 공간에 위치하고 있다는 가정하에, 이 데이터를 저차원 공간으로 매핑하는 방법론입니다. 이는 데이터를 더 쉽게 분석하고 시각화할 수 있도록 하는 기계 학습 기법 중 하나입니다. Manifold Learning은 데이터가 고차원 공간에 분포되어 있더라도 그 본질적인 구조는 저차원 공간에 존재한다는 가정에서 출발합니다.\n",
    "\n",
    "### Manifold Learning의 핵심 아이디어\n",
    "Manifold Learning의 기본 아이디어는 다음과 같습니다:\n",
    "1. **고차원 데이터의 내재적 저차원 구조 발견**: 데이터가 고차원 공간에 분포되어 있더라도, 그 데이터는 실제로 저차원 공간에 매핑될 수 있는 구조를 가지고 있다는 것입니다.\n",
    "2. **차원 축소**: 이 저차원 구조를 찾아내어 고차원 데이터를 저차원 데이터로 변환합니다. 이를 통해 데이터의 주요 특성을 유지하면서 분석 및 시각화를 용이하게 합니다.\n",
    "\n",
    "### 주요 기법\n",
    "Manifold Learning에는 여러 가지 알고리즘이 있으며, 각각의 알고리즘은 데이터의 저차원 구조를 발견하는 다양한 접근 방식을 사용합니다. 주요 기법은 다음과 같습니다:\n",
    "\n",
    "1. **Principal Component Analysis (PCA)**:\n",
    "   - **개요**: 데이터의 분산을 최대화하는 방향으로 주성분을 찾습니다.\n",
    "   - **특징**: 선형 차원 축소 방법으로, 데이터의 전역적인 구조를 보존합니다.\n",
    "\n",
    "2. **t-distributed Stochastic Neighbor Embedding (t-SNE)**:\n",
    "   - **개요**: 데이터의 국부적 구조를 유지하면서 저차원 공간으로 매핑합니다.\n",
    "   - **특징**: 주로 데이터 시각화에 사용되며, 데이터의 클러스터링 구조를 잘 보여줍니다.\n",
    "\n",
    "3. **Uniform Manifold Approximation and Projection (UMAP)**:\n",
    "   - **개요**: 데이터의 전역적 구조와 국부적 구조를 모두 보존하면서 저차원 공간으로 매핑합니다.\n",
    "   - **특징**: t-SNE보다 더 빠르고 큰 데이터셋에 효과적입니다.\n",
    "\n",
    "4. **Isomap**:\n",
    "   - **개요**: 데이터의 기하학적 구조를 유지하면서 저차원 공간으로 변환합니다. 데이터 포인트 간의 지오데식 거리(최단 경로 거리)를 이용합니다.\n",
    "   - **특징**: 비선형 차원 축소 방법으로, 데이터의 전역적인 구조를 잘 보존합니다.\n",
    "\n",
    "5. **Locally Linear Embedding (LLE)**:\n",
    "   - **개요**: 각 데이터 포인트의 국부적 선형 구조를 유지하면서 저차원 공간으로 변환합니다.\n",
    "   - **특징**: 비선형 차원 축소 방법으로, 국부적인 데이터 구조를 잘 보존합니다.\n",
    "\n",
    "### 응용 분야\n",
    "Manifold Learning은 다양한 분야에서 활용됩니다:\n",
    "- **이미지 처리 및 인식**: 고차원 이미지 데이터를 저차원으로 축소하여 패턴 인식 및 분류에 사용됩니다.\n",
    "- **자연어 처리(NLP)**: 단어 임베딩을 통해 고차원 단어 벡터를 저차원 공간에 매핑하여 의미적 유사성을 파악합니다.\n",
    "- **생물정보학**: 유전자 데이터나 단백질 구조 데이터를 분석하는 데 사용됩니다.\n",
    "- **시각화**: 고차원 데이터를 2D 또는 3D로 변환하여 시각적으로 이해하기 쉽게 만듭니다.\n",
    "\n",
    "### 장점\n",
    "- **계산 효율성 증가**: 데이터의 차원을 줄임으로써 계산 비용이 감소합니다.\n",
    "- **잡음 감소**: 데이터의 주요 구조만 남기고 잡음을 제거할 수 있습니다.\n",
    "- **해석 용이성**: 저차원 데이터는 시각화가 용이하여 직관적인 이해를 돕습니다.\n",
    "\n",
    "Manifold Learning은 고차원 데이터의 복잡한 구조를 저차원 공간에서 이해하고 분석하는 데 중요한 도구로 사용됩니다. 이를 통해 데이터의 본질적인 특성을 더 잘 파악할 수 있습니다.\n",
    "\n"
   ],
   "metadata": {
    "collapsed": false
   },
   "id": "ee1eaf77ba497975"
  },
  {
   "cell_type": "markdown",
   "source": [
    "Autoencoder 학습은 인공지능과 기계 학습에서 널리 사용되는 비지도 학습 기법입니다. Autoencoder는 입력 데이터를 효율적으로 인코딩하고 다시 복원하는 데 목적이 있습니다. 이를 통해 데이터의 중요한 특징을 추출하고 차원 축소, 데이터 압축, 이상 탐지 등의 다양한 응용 분야에 활용됩니다.\n",
    "\n",
    "### Autoencoder의 구조\n",
    "Autoencoder는 기본적으로 두 개의 주요 부분으로 구성됩니다:\n",
    "1. **인코더(Encoder)**: 입력 데이터를 저차원 잠재 공간(latent space)으로 변환합니다.\n",
    "2. **디코더(Decoder)**: 잠재 공간에서 다시 원래 차원의 데이터로 복원합니다.\n",
    "\n",
    "### 학습 과정\n",
    "Autoencoder는 입력 데이터를 입력으로 받아 이를 인코더를 통해 잠재 공간으로 압축하고, 디코더를 통해 원래 입력 데이터로 복원합니다. 학습 과정에서의 목표는 원래 입력 데이터와 복원된 데이터 간의 차이를 최소화하는 것입니다. 이 차이는 일반적으로 손실 함수(loss function)를 통해 측정됩니다.\n",
    "\n",
    "### 손실 함수\n",
    "일반적으로 사용되는 손실 함수는 Mean Squared Error (MSE)입니다:\n",
    "\n",
    "$$\n",
    "\\text{MSE} = \\frac{1}{n} \\sum_{i=1}^{n} (x_i - \\hat{x}_i)^2\n",
    "$$\n",
    "\n",
    "여기서 $ x_i $는 원래 입력 데이터, $\\hat{x}_i$는 복원된 데이터입니다.\n",
    "\n",
    "### Autoencoder의 유형\n",
    "Autoencoder에는 여러 유형이 있으며, 각기 다른 목적과 구조를 가집니다:\n",
    "\n",
    "1. **기본 Autoencoder**:\n",
    "   - 입력 데이터를 잠재 공간으로 압축하고 다시 복원합니다.\n",
    "\n",
    "2. **Sparse Autoencoder**:\n",
    "   - 희소성을 유도하여 특정 뉴런만 활성화되도록 합니다. 이는 특징 추출에 유리합니다.\n",
    "\n",
    "3. **Denoising Autoencoder**:\n",
    "   - 입력 데이터에 노이즈를 추가한 후 원래 데이터로 복원합니다. 이를 통해 노이즈 제거 능력을 학습합니다.\n",
    "\n",
    "4. **Variational Autoencoder (VAE)**:\n",
    "   - 잠재 공간에 확률 분포를 도입하여 더 연속적이고 부드러운 잠재 공간을 만듭니다. 이는 생성 모델에 유용합니다.\n",
    "\n",
    "5. **Convolutional Autoencoder**:\n",
    "   - 주로 이미지 데이터에 사용되며, 컨볼루션 레이어를 이용해 공간적 구조를 보존합니다.\n",
    "\n",
    "### 응용 분야\n",
    "Autoencoder는 다양한 분야에서 활용됩니다:\n",
    "\n",
    "1. **차원 축소 및 데이터 시각화**:\n",
    "   - 고차원 데이터를 저차원으로 압축하여 시각화에 사용됩니다. 예를 들어, t-SNE나 UMAP과 결합하여 사용될 수 있습니다.\n",
    "\n",
    "2. **데이터 압축**:\n",
    "   - 중요한 특징만 남기고 데이터를 압축하여 저장 공간을 절약합니다.\n",
    "\n",
    "3. **이상 탐지**:\n",
    "   - 정상 데이터로 학습된 Autoencoder는 비정상 데이터를 잘 복원하지 못하므로, 이를 이용해 이상치를 탐지할 수 있습니다.\n",
    "\n",
    "4. **노이즈 제거**:\n",
    "   - Denoising Autoencoder를 사용해 데이터에서 노이즈를 제거합니다.\n",
    "\n",
    "5. **생성 모델**:\n",
    "   - Variational Autoencoder(VAE)는 새로운 데이터를 생성하는 데 사용됩니다. 이는 GAN(Generative Adversarial Network)과 함께 이미지 생성 등 다양한 생성 모델에 활용됩니다.\n",
    "\n",
    "### 예제 코드\n",
    "다음은 Python과 TensorFlow를 사용한 간단한 Autoencoder 구현 예제입니다:\n",
    "\n",
    "이 코드는 MNIST 데이터셋을 사용하여 간단한 Autoencoder를 학습하는 예제입니다. 입력 이미지 데이터를 인코더를 통해 압축하고, 디코더를 통해 복원하는 과정을 거칩니다.\n",
    "\n",
    "Autoencoder는 비지도 학습의 강력한 도구로서 데이터 분석, 압축, 노이즈 제거 및 이상 탐지 등 다양한 응용 분야에서 유용하게 사용됩니다."
   ],
   "metadata": {
    "collapsed": false
   },
   "id": "6f1d492abbcc1371"
  },
  {
   "cell_type": "code",
   "outputs": [
    {
     "name": "stdout",
     "output_type": "stream",
     "text": [
      ".. _digits_dataset:\n",
      "\n",
      "Optical recognition of handwritten digits dataset\n",
      "--------------------------------------------------\n",
      "\n",
      "**Data Set Characteristics:**\n",
      "\n",
      ":Number of Instances: 1797\n",
      ":Number of Attributes: 64\n",
      ":Attribute Information: 8x8 image of integer pixels in the range 0..16.\n",
      ":Missing Attribute Values: None\n",
      ":Creator: E. Alpaydin (alpaydin '@' boun.edu.tr)\n",
      ":Date: July; 1998\n",
      "\n",
      "This is a copy of the test set of the UCI ML hand-written digits datasets\n",
      "https://archive.ics.uci.edu/ml/datasets/Optical+Recognition+of+Handwritten+Digits\n",
      "\n",
      "The data set contains images of hand-written digits: 10 classes where\n",
      "each class refers to a digit.\n",
      "\n",
      "Preprocessing programs made available by NIST were used to extract\n",
      "normalized bitmaps of handwritten digits from a preprinted form. From a\n",
      "total of 43 people, 30 contributed to the training set and different 13\n",
      "to the test set. 32x32 bitmaps are divided into nonoverlapping blocks of\n",
      "4x4 and the number of on pixels are counted in each block. This generates\n",
      "an input matrix of 8x8 where each element is an integer in the range\n",
      "0..16. This reduces dimensionality and gives invariance to small\n",
      "distortions.\n",
      "\n",
      "For info on NIST preprocessing routines, see M. D. Garris, J. L. Blue, G.\n",
      "T. Candela, D. L. Dimmick, J. Geist, P. J. Grother, S. A. Janet, and C.\n",
      "L. Wilson, NIST Form-Based Handprint Recognition System, NISTIR 5469,\n",
      "1994.\n",
      "\n",
      "|details-start|\n",
      "**References**\n",
      "|details-split|\n",
      "\n",
      "- C. Kaynak (1995) Methods of Combining Multiple Classifiers and Their\n",
      "  Applications to Handwritten Digit Recognition, MSc Thesis, Institute of\n",
      "  Graduate Studies in Science and Engineering, Bogazici University.\n",
      "- E. Alpaydin, C. Kaynak (1998) Cascading Classifiers, Kybernetika.\n",
      "- Ken Tang and Ponnuthurai N. Suganthan and Xi Yao and A. Kai Qin.\n",
      "  Linear dimensionalityreduction using relevance weighted LDA. School of\n",
      "  Electrical and Electronic Engineering Nanyang Technological University.\n",
      "  2005.\n",
      "- Claudio Gentile. A New Approximate Maximal Margin Classification\n",
      "  Algorithm. NIPS. 2000.\n",
      "\n",
      "|details-end|\n"
     ]
    }
   ],
   "source": [
    "from sklearn.datasets import load_digits\n",
    "\n",
    "\n",
    "digits = load_digits()\n",
    "print(digits.DESCR)"
   ],
   "metadata": {
    "collapsed": false,
    "ExecuteTime": {
     "end_time": "2024-05-23T00:51:13.761330Z",
     "start_time": "2024-05-23T00:51:13.739264Z"
    }
   },
   "id": "d7e3c0659af8b293",
   "execution_count": 4
  },
  {
   "cell_type": "code",
   "outputs": [],
   "source": [
    "import pandas as pd\n",
    "\n",
    "\n",
    "df = pd.DataFrame(digits.data, columns=digits.feature_names)\n",
    "df['target'] = digits.target"
   ],
   "metadata": {
    "collapsed": false,
    "ExecuteTime": {
     "end_time": "2024-05-23T01:01:36.257862Z",
     "start_time": "2024-05-23T01:01:36.253373Z"
    }
   },
   "id": "61faa66779f64d3f",
   "execution_count": 7
  },
  {
   "cell_type": "code",
   "outputs": [
    {
     "name": "stdout",
     "output_type": "stream",
     "text": [
      "      pixel_0_0  pixel_0_1  pixel_0_2  pixel_0_3  pixel_0_4  pixel_0_5  \\\n",
      "5           0.0        0.0       12.0       10.0        0.0        0.0   \n",
      "15          0.0        5.0       12.0       13.0       16.0       16.0   \n",
      "25          0.0        0.0       12.0        8.0        8.0        7.0   \n",
      "32          0.0        2.0       13.0       16.0       16.0       16.0   \n",
      "33          0.0        6.0       13.0        5.0        8.0        8.0   \n",
      "...         ...        ...        ...        ...        ...        ...   \n",
      "1741        0.0        0.0        3.0       10.0       16.0       12.0   \n",
      "1769        0.0        0.0        9.0       12.0       14.0        6.0   \n",
      "1776        0.0        0.0       12.0       16.0       16.0        7.0   \n",
      "1784        0.0        0.0        1.0       10.0       14.0       13.0   \n",
      "1787        0.0        0.0       10.0       16.0       15.0        1.0   \n",
      "\n",
      "      pixel_0_6  pixel_0_7  pixel_1_0  pixel_1_1  ...  pixel_6_6  pixel_6_7  \\\n",
      "5           0.0        0.0        0.0        0.0  ...        4.0        0.0   \n",
      "15          2.0        0.0        0.0       11.0  ...        0.0        0.0   \n",
      "25          0.0        0.0        0.0        3.0  ...        0.0        0.0   \n",
      "32         11.0        0.0        0.0        5.0  ...        0.0        0.0   \n",
      "33          1.0        0.0        0.0        8.0  ...        0.0        0.0   \n",
      "...         ...        ...        ...        ...  ...        ...        ...   \n",
      "1741        0.0        0.0        0.0        0.0  ...        1.0        0.0   \n",
      "1769        0.0        0.0        0.0        0.0  ...        2.0        0.0   \n",
      "1776        0.0        0.0        0.0        3.0  ...        7.0        0.0   \n",
      "1784        1.0        0.0        0.0        0.0  ...        2.0        0.0   \n",
      "1787        0.0        0.0        0.0        0.0  ...        3.0        0.0   \n",
      "\n",
      "      pixel_7_0  pixel_7_1  pixel_7_2  pixel_7_3  pixel_7_4  pixel_7_5  \\\n",
      "5           0.0        0.0        9.0       16.0       16.0       10.0   \n",
      "15          0.0        4.0       15.0       16.0        2.0        0.0   \n",
      "25          0.0        0.0       11.0       14.0        9.0        0.0   \n",
      "32          0.0        2.0       16.0       15.0        8.0        0.0   \n",
      "33          0.0        4.0       16.0       15.0        3.0        0.0   \n",
      "...         ...        ...        ...        ...        ...        ...   \n",
      "1741        0.0        0.0        1.0       13.0       10.0        1.0   \n",
      "1769        0.0        0.0       12.0       14.0        9.0        2.0   \n",
      "1776        0.0        0.0       10.0       12.0       12.0        4.0   \n",
      "1784        0.0        0.0        0.0       12.0       14.0        4.0   \n",
      "1787        0.0        0.0        6.0       13.0       10.0        4.0   \n",
      "\n",
      "      pixel_7_6  pixel_7_7  \n",
      "5           0.0        0.0  \n",
      "15          0.0        0.0  \n",
      "25          0.0        0.0  \n",
      "32          0.0        0.0  \n",
      "33          0.0        0.0  \n",
      "...         ...        ...  \n",
      "1741        0.0        0.0  \n",
      "1769        0.0        0.0  \n",
      "1776        0.0        0.0  \n",
      "1784        0.0        0.0  \n",
      "1787        0.0        0.0  \n",
      "\n",
      "[182 rows x 64 columns]\n"
     ]
    }
   ],
   "source": [
    "df_5 = df[df['target'] == 5]\n",
    "df_5_data = df_5.iloc[:, :-1]\n",
    "print(df_5_data)"
   ],
   "metadata": {
    "collapsed": false,
    "ExecuteTime": {
     "end_time": "2024-05-23T01:08:26.275013Z",
     "start_time": "2024-05-23T01:08:26.258452Z"
    }
   },
   "id": "4be891c884791a71",
   "execution_count": 10
  },
  {
   "cell_type": "code",
   "outputs": [
    {
     "data": {
      "text/plain": "(8, 8)"
     },
     "execution_count": 11,
     "metadata": {},
     "output_type": "execute_result"
    }
   ],
   "source": [
    "img = df_5_data.iloc[0].to_numpy().reshape(8, 8)\n",
    "img.shape"
   ],
   "metadata": {
    "collapsed": false,
    "ExecuteTime": {
     "end_time": "2024-05-23T01:12:30.133549Z",
     "start_time": "2024-05-23T01:12:30.127109Z"
    }
   },
   "id": "17bd9c4dec4deb4a",
   "execution_count": 11
  },
  {
   "cell_type": "code",
   "outputs": [
    {
     "data": {
      "text/plain": "<Figure size 640x480 with 1 Axes>",
      "image/png": "[encoded data removed]"
     },
     "metadata": {},
     "output_type": "display_data"
    }
   ],
   "source": [
    "import matplotlib.pyplot as plt\n",
    "\n",
    "\n",
    "plt.imshow(img)\n",
    "plt.title('5')\n",
    "plt.show()"
   ],
   "metadata": {
    "collapsed": false,
    "ExecuteTime": {
     "end_time": "2024-05-23T01:13:54.704075Z",
     "start_time": "2024-05-23T01:13:54.133204Z"
    }
   },
   "id": "d40b25ed54d9e99b",
   "execution_count": 12
  },
  {
   "cell_type": "code",
   "outputs": [
    {
     "data": {
      "text/plain": "<Figure size 640x480 with 1 Axes>",
      "image/png": "[encoded data removed]"
     },
     "metadata": {},
     "output_type": "display_data"
    }
   ],
   "source": [
    "img_1 = df_5_data.sample(1).to_numpy().reshape(8, 8)\n",
    "plt.imshow(img_1)\n",
    "plt.show()"
   ],
   "metadata": {
    "collapsed": false,
    "ExecuteTime": {
     "end_time": "2024-05-23T01:15:25.536707Z",
     "start_time": "2024-05-23T01:15:25.473298Z"
    }
   },
   "id": "897ae7c2899eec57",
   "execution_count": 13
  },
  {
   "cell_type": "code",
   "outputs": [],
   "source": [
    "import torch\n",
    "import torch.nn as nn\n",
    "import torch.optim as optim\n",
    "import numpy as np\n",
    "\n",
    "EPOCH = 10\n",
    "\n",
    "train_data = df_5_data.values\n",
    "train_dataset = torch.Tensor(train_data)"
   ],
   "metadata": {
    "collapsed": false,
    "ExecuteTime": {
     "end_time": "2024-05-23T02:07:55.295301Z",
     "start_time": "2024-05-23T02:07:55.286831Z"
    }
   },
   "id": "d012554463e41c77",
   "execution_count": 20
  },
  {
   "cell_type": "code",
   "outputs": [],
   "source": [
    "class Autoencoder(nn.Module):\n",
    "    def __init__(self):\n",
    "        super().__init__()\n",
    "        self.encoder = nn.Sequential(\n",
    "            nn.Linear(64, 8),\n",
    "            nn.Linear(8, 2)\n",
    "        )\n",
    "        self.decoder = nn.Sequential(\n",
    "            nn.Linear(2, 8),\n",
    "            nn.Linear(8, 64),\n",
    "        )\n",
    "        \n",
    "    def forward(self, x):\n",
    "        encoder = self.encoder(x)\n",
    "        decoder = self.decoder(encoder)\n",
    "        return encoder, decoder"
   ],
   "metadata": {
    "collapsed": false,
    "ExecuteTime": {
     "end_time": "2024-05-23T02:07:56.064972Z",
     "start_time": "2024-05-23T02:07:56.061218Z"
    }
   },
   "id": "5f3e6a253c019fc8",
   "execution_count": 21
  },
  {
   "cell_type": "code",
   "outputs": [
    {
     "data": {
      "text/plain": "(tensor([[3.5375, 1.2831]], grad_fn=<AddmmBackward0>),\n tensor([[-0.8922, -0.5313,  0.8436, -0.9902,  1.7773,  0.0427,  0.0542, -0.1859,\n          -0.8014, -0.4232, -0.4582, -0.0996, -0.7713,  0.1891, -1.2708,  0.0326,\n           0.6708,  0.1023,  0.2561, -0.5530,  0.7490, -1.5014, -1.5252,  0.3815,\n          -0.3402, -1.2514,  0.3115, -0.0343, -0.0159, -0.8937, -1.3467,  0.6420,\n          -0.1366, -0.7473,  0.7159,  0.7093, -0.6742,  0.9357, -0.5686,  0.1963,\n          -0.4966, -0.7198,  0.2591, -0.7754,  0.6633,  0.3752, -0.0837,  0.1070,\n          -0.2060,  0.9325, -0.2171,  0.1819,  0.0938, -0.2669,  0.5541,  0.4322,\n           0.2154, -0.0845, -0.5280, -0.5113, -0.6806,  0.5762,  0.3657, -0.9589]],\n        grad_fn=<AddmmBackward0>))"
     },
     "execution_count": 22,
     "metadata": {},
     "output_type": "execute_result"
    }
   ],
   "source": [
    "autoencoder = Autoencoder()\n",
    "criterion = nn.MSELoss()\n",
    "optimizer = optim.SGD(autoencoder.parameters(), lr=0.001)\n",
    "\n",
    "autoencoder((train_dataset[0:1]))"
   ],
   "metadata": {
    "collapsed": false,
    "ExecuteTime": {
     "end_time": "2024-05-23T02:07:57.321420Z",
     "start_time": "2024-05-23T02:07:57.314166Z"
    }
   },
   "id": "9e673d305679bcc9",
   "execution_count": 22
  },
  {
   "cell_type": "code",
   "outputs": [
    {
     "name": "stdout",
     "output_type": "stream",
     "text": [
      "59.0053825378418\n",
      "58.80496597290039\n",
      "58.63115310668945\n",
      "58.478370666503906\n",
      "58.34228515625\n",
      "58.21951675415039\n",
      "58.107364654541016\n",
      "58.003639221191406\n",
      "57.90654373168945\n",
      "57.814613342285156\n"
     ]
    }
   ],
   "source": [
    "for epoch in range(EPOCH):\n",
    "    e, d = autoencoder(train_dataset)\n",
    "    loss = criterion(d, train_dataset)\n",
    "    optimizer.zero_grad()\n",
    "    loss.backward()\n",
    "    optimizer.step()\n",
    "    print(loss.item())"
   ],
   "metadata": {
    "collapsed": false,
    "ExecuteTime": {
     "end_time": "2024-05-23T02:08:32.130757Z",
     "start_time": "2024-05-23T02:08:32.046067Z"
    }
   },
   "id": "6bd356eebb3cbf3",
   "execution_count": 24
  },
  {
   "cell_type": "code",
   "outputs": [],
   "source": [],
   "metadata": {
    "collapsed": false
   },
   "id": "8fd18d7e9c2fc072"
  }
 ],
 "metadata": {
  "kernelspec": {
   "display_name": "Python 3",
   "language": "python",
   "name": "python3"
  },
  "language_info": {
   "codemirror_mode": {
    "name": "ipython",
    "version": 2
   },
   "file_extension": ".py",
   "mimetype": "text/x-python",
   "name": "python",
   "nbconvert_exporter": "python",
   "pygments_lexer": "ipython2",
   "version": "2.7.6"
  }
 },
 "nbformat": 4,
 "nbformat_minor": 5
}
