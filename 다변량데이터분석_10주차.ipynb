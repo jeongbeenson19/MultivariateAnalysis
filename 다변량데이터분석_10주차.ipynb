{
 "cells": [
  {
   "cell_type": "markdown",
   "source": [
    "주성분분석(Principal Component Analysis, PCA)은 데이터의 차원을 줄이는 기술로, 데이터를 더 낮은 차원의 부분 공간으로 변환하여 원래 데이터의 정보를 최대한 보존하면서 차원을 축소합니다. 주로 데이터의 시각화, 노이즈 제거, 데이터 압축, 특성 추출 등의 목적으로 사용됩니다.\n",
    "\n",
    "PCA의 주요 단계는 다음과 같습니다:\n",
    "\n",
    "1. **데이터 중심화(Centering)**: 각 특성에서 평균을 빼서 데이터를 중심화합니다.\n",
    "2. **공분산 행렬 계산**: 중심화된 데이터의 공분산 행렬을 계산합니다.\n",
    "3. **고유값 분해(Eigen Decomposition)**: 공분산 행렬을 고유값과 고유벡터로 분해합니다.\n",
    "4. **주성분 선택**: 고유값이 큰 순서대로 정렬된 고유벡터를 선택하여 주성분으로 사용합니다.\n",
    "5. **주성분에 데이터 투영**: 선택한 주성분으로 데이터를 투영하여 차원을 축소합니다.\n",
    "\n",
    "PCA를 통해 데이터의 주성분(Principal Components)은 원래 데이터의 분산을 최대한 보존하는 방향으로 정의됩니다. 따라서, 상위 주성분은 가장 많은 정보를 가지고 있고, 이후의 주성분은 정보가 점차적으로 감소하며 노이즈에 해당하는 부분입니다.\n",
    "\n",
    "PCA는 다양한 분야에서 사용되며, 특히 데이터의 차원이 높은 경우에는 차원 축소를 통해 데이터를 더 효율적으로 다루고 분석하는 데 도움이 됩니다."
   ],
   "metadata": {
    "collapsed": false
   },
   "id": "fc37cefece4771fa"
  },
  {
   "cell_type": "markdown",
   "source": [
    "기말 2번\n",
    "1번 대각화 eigenvalue decomposition(정방행렬)\n",
    "\n",
    "$$\n",
    "Av_1 = \\lambda_1v_1 \\\\\n",
    "\n",
    "\n",
    "Av_1 = \\begin{bmatrix}\n",
    "v_1 & v_2\n",
    "\\end{bmatrix}\n",
    "\\begin{bmatrix}\n",
    "\\lambda_1 & 0 \\\\\n",
    "0 & \\lambda_2\n",
    "\\end{bmatrix}\n",
    "$$\n",
    "\n",
    "2번 주성분 벡터\n",
    "\n",
    "$$\n",
    "\\begin{Vmatrix}e\\end{Vmatrix}^2 = \\begin{Vmatrix}x\\end{Vmatrix}^2 - \\begin{Vmatrix}x\\cdot u \\end{Vmatrix}^2  \\\\\n",
    "\n",
    "= \\begin{Vmatrix}x\\end{Vmatrix}^2 - (xu)^T(xu)  \\\\\n",
    "\n",
    "\\min \\begin{Vmatrix}e\\end{Vmatrix}^2 = \\begin{Vmatrix}x\\end{Vmatrix} - u^T x^T x u \\\\  \n",
    "\n",
    "\\max u^Tx^Txu  \\\\\n",
    "\n",
    "\\text{s. t.  } u^Tu = 1 \\\\\n",
    "\n",
    "\\max_u \\begin{bmatrix}u^Tx^Txu - \\lambda(u^Tu-1)\\end{bmatrix} \\\\\n",
    "\n",
    "\\frac{\\partial f(u)}{\\partial u} = 0 \\\\\n",
    "\n",
    "ux^Tx - \\lambda u = 0 \\\\\n",
    "\n",
    "ux^Tx = \\lambda u \\\\\n",
    "\n",
    "\\sum u = \\lambda u \\\\\n",
    "\n",
    "x^Tx = \\sum\n",
    "$$\n",
    "\n",
    "$u$ =  $\\sum$의 고유벡터\n",
    "$\\sum$ = $u$의 고유값"
   ],
   "metadata": {
    "collapsed": false
   },
   "id": "b2db840b099936b0"
  },
  {
   "cell_type": "code",
   "outputs": [],
   "source": [],
   "metadata": {
    "collapsed": false,
    "ExecuteTime": {
     "end_time": "2024-05-09T03:30:00.546198Z",
     "start_time": "2024-05-09T03:30:00.543578Z"
    }
   },
   "id": "f5da89d59fab22cf",
   "execution_count": 1
  },
  {
   "cell_type": "code",
   "outputs": [],
   "source": [],
   "metadata": {
    "collapsed": false
   },
   "id": "d42da94f599e9834"
  }
 ],
 "metadata": {
  "kernelspec": {
   "display_name": "Python 3",
   "language": "python",
   "name": "python3"
  },
  "language_info": {
   "codemirror_mode": {
    "name": "ipython",
    "version": 2
   },
   "file_extension": ".py",
   "mimetype": "text/x-python",
   "name": "python",
   "nbconvert_exporter": "python",
   "pygments_lexer": "ipython2",
   "version": "2.7.6"
  }
 },
 "nbformat": 4,
 "nbformat_minor": 5
}
